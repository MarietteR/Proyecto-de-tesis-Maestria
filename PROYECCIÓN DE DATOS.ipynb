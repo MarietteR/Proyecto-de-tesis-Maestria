#In[ ]:


import pandas as pd
import numpy as np
import statsmodels.api as sm
from scipy.optimize import curve_fit
import matplotlib.pylab as plt
%matplotlib inline
from matplotlib.pylab import rcParams
rcParams['figure.figsize'] = 15, 6

#In[ ]:


path ='/media/anmrodriguezsa/DA4E639F4E6372E5/Users/Ángela/Desktop/Proyecto1/acciones'  ##Linux
#path ='C:/Users/Ángela/Desktop/Proyecto1/acciones'   #windows

# Lectura de archivos .csv y Selección de los precios de cierre de cada acción.

def LecYSel(path):
    allFiles = glob.glob(path + "/*.csv")
    Pc=np.asarray([])
    flagFirst = 0
        
    for file_ in allFiles:
        dateparser = lambda date: pd.datetime.strptime(date, '%d/%m/%Y') #identifica dia mes y año
        Data = pd.read_csv(file_,index_col=None, header=0)  #Lectura de archivos .csv
        x  = Data["Último"].values   #Selección de los valores del precio de cierre de las acciones
        x = [s. replace('.','') for s in x] 
        x = [s. replace(',','.') for s in x]
        v = [float(s) for s in x] 
        
        if flagFirst==0:
            flagFirst = 1
            Pc = v
        else:
            Pc = np.vstack((Pc,v))
    return(Pc)

#LecYSel(path)

#In[ ]:


Parte 3 - MEDIA MOVIL SIMPLE

#In[ ]:


def MMS(M):
    M=np.transpose(M)    
    mms=np.asarray([])
    
    for k in range(M.shape[1]):
        for f in range(M.shape[0]):
            M[-1][k]=0
            mms[f][k]=(M[f-1][k]+M[f][k])/2
    return (mms)
            
            
MMS(LecYSel(path))

#In[ ]:


ts_SMA1 = ts_SMA[0:20] 
ts_SMA2 = ts_SMA[0:50]
ts_SMA3 = ts_SMA[0:100]
ts_SMA4 = ts_SMA[0:200]
ts_SMA5 = ts_SMA[0:300]
ts_SMA6 = ts_SMA[0:500]
ts_SMA7 = ts_SMA[0:800]

plt.plot(a2,"--", color="blue",lw=2)
plt.plot(ts_SMA2,"--",color="red",lw=1)
plt.ylabel("Media Movil")

#In[ ]:


PARTE 4 - AJUSTES A LA CURVA

import warnings
import itertools
import pandas as pd
import numpy as np
import statsmodels.api as sm
import matplotlib.pyplot as plt
plt.style.use('fivethirtyeight')

# Modelo ARIMA sobre el valor de cierre de la acción.
modelo = sm.tsa.ARIMA(closingPrice, order=(1, 0, 0)) 
resultados = modelo.fit(disp=-1)
data['pronostico'] = resultados.fittedvalues
plot = data[['pronostico']].plot(figsize=(10, 8))
plt.plot(closingPrice)

print(resultados.summary())

#In[ ]:


import pandas
import matplotlib.mlab as mlab
import matplotlib.pyplot as plt
import numpy as np
import math
from statsmodels.tsa.stattools import acf, pacf
import statsmodels.tsa.stattools as ts
from statsmodels.tsa.arima_model import ARIMA

# Prediccion de datos 750 a 755

predictions=resultados.predict(750, 755)
predictions

data['pronostico'][1:20]

# Modelo ARIMA sobre el valor de cierre de la acción. de 0 a 300
modelo = sm.tsa.ARIMA(closingPrice, order=(1, 0, 0)) 
resultados = modelo.fit(disp=-1)
data['pronostico'] = resultados.fittedvalues
plot = data[['pronostico']][0:200].plot(figsize=(10, 8))
plt.plot(a4)

#In[ ]:


PARTE 5 - Predicción Modelos Arima

# Modelo ARIMA sobre el valor de cierre de la acción. de 0 a 20
modelo = sm.tsa.ARIMA(a1, order=(1, 0, 0)) 
resultados = modelo.fit(disp=-1)
pronostico1 = resultados.fittedvalues
pronostico1

#plot = pronostico1.plot(figsize=(10, 8))

plt.plot(a1)
plt.plot(pronostico1)

#print(resultados.summary().tables[0]) #Tabla 1
print(resultados.summary())

# Prediccion de datos 21 a 50

predictions=resultados.predict(0, 50)
predictions

plt.plot(closingPrice[0:50])
plt.plot(predictions)

A1=print(a1)
Predictions = print(predictions)
