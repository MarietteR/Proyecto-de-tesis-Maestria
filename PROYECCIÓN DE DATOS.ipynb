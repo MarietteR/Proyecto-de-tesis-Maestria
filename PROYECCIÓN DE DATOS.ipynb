#In[ ]:


import pandas as pd
import numpy as np
import statsmodels.api as sm
from scipy.optimize import curve_fit
import matplotlib.pylab as plt
%matplotlib inline
from matplotlib.pylab import rcParams
rcParams['figure.figsize'] = 15, 6

#In[ ]:


dateparser = lambda date: pd.datetime.strptime(date, '%d/%m/%Y') #identifica dia mes y año
data= pd.read_csv("/media/anmrodriguezsa/DA4E639F4E6372E5/Users/Ángela/Desktop/Proyecto1/acciones/ARGOS.csv") # Aceptar utf-8 encoding = 'cp1252'

ts = data["Último"]
x  = data["Último"].values
x = [s. replace('.','') for s in x]; 
x = [s. replace(',','.') for s in x];
v =  [float(s) for s in x];

print(data)

#In[ ]:


closingPrice = np.flipud(v); # Escribe el vector alrevez
print(closingPrice)

ts = pd.DataFrame(closingPrice)
plt.plot(closingPrice)

#In[ ]:


Parte 2 - SELECCIÓN DE DATOS

#In[ ]:


a1= closingPrice[0:20] # Sección de datos de 0 a 20
a2= closingPrice[0:50] # Sección de datos de 0 a 50
a3= closingPrice[0:100] # Sección de datos de 0 a 100
a4= closingPrice[0:200] # Sección de datos de 0 a 200
a5= closingPrice[0:300] # Sección de datos de 0 a 300
a6= closingPrice[0:500] # Sección de datos de 0 a 500
a7= closingPrice[0:800] # Sección de datos de 0 a 800

#In[ ]:


Parte 3 - MEDIA MOVIL SIMPLE

#In[ ]:


ts_SMA = ts.rolling(window=1).mean() # Media Móvil 4

ts_SMA1 = ts_SMA[0:20] 
ts_SMA2 = ts_SMA[0:50]
ts_SMA3 = ts_SMA[0:100]
ts_SMA4 = ts_SMA[0:200]
ts_SMA5 = ts_SMA[0:300]
ts_SMA6 = ts_SMA[0:500]
ts_SMA7 = ts_SMA[0:800]

plt.plot(a2,"--", color="blue",lw=2)
plt.plot(ts_SMA2,"--",color="red",lw=1)
plt.ylabel("Media Movil")

#In[ ]:


PARTE 4 - AJUSTES A LA CURVA

import warnings
import itertools
import pandas as pd
import numpy as np
import statsmodels.api as sm
import matplotlib.pyplot as plt
plt.style.use('fivethirtyeight')

# Modelo ARIMA sobre el valor de cierre de la acción.
modelo = sm.tsa.ARIMA(closingPrice, order=(1, 0, 0)) 
resultados = modelo.fit(disp=-1)
data['pronostico'] = resultados.fittedvalues
plot = data[['pronostico']].plot(figsize=(10, 8))
plt.plot(closingPrice)

print(resultados.summary())

#In[ ]:


import pandas
import matplotlib.mlab as mlab
import matplotlib.pyplot as plt
import numpy as np
import math
from statsmodels.tsa.stattools import acf, pacf
import statsmodels.tsa.stattools as ts
from statsmodels.tsa.arima_model import ARIMA

# Prediccion de datos 750 a 755

predictions=resultados.predict(750, 755)
predictions

data['pronostico'][1:20]

# Modelo ARIMA sobre el valor de cierre de la acción. de 0 a 300
modelo = sm.tsa.ARIMA(closingPrice, order=(1, 0, 0)) 
resultados = modelo.fit(disp=-1)
data['pronostico'] = resultados.fittedvalues
plot = data[['pronostico']][0:200].plot(figsize=(10, 8))
plt.plot(a4)

#In[ ]:


PARTE 5 - Predicción Modelos Arima

# Modelo ARIMA sobre el valor de cierre de la acción. de 0 a 20
modelo = sm.tsa.ARIMA(a1, order=(1, 0, 0)) 
resultados = modelo.fit(disp=-1)
pronostico1 = resultados.fittedvalues
pronostico1

#plot = pronostico1.plot(figsize=(10, 8))

plt.plot(a1)
plt.plot(pronostico1)

#print(resultados.summary().tables[0]) #Tabla 1
print(resultados.summary())

# Prediccion de datos 21 a 50

predictions=resultados.predict(0, 50)
predictions

plt.plot(closingPrice[0:50])
plt.plot(predictions)

A1=print(a1)
Predictions = print(predictions)
